{
 "cells": [
  {
   "cell_type": "code",
   "execution_count": 9,
   "id": "38b196c3",
   "metadata": {},
   "outputs": [],
   "source": [
    "from pandas_datareader import data\n",
    "from datetime import datetime as dt\n",
    "from bokeh.plotting import figure, show, output_file\n",
    "from bokeh.embed import components\n",
    "from bokeh.resources import CDN\n",
    "\n",
    "start = dt(2015,11,1)\n",
    "end = dt(2016,3,10)\n",
    "\n",
    "df = data.DataReader(name='GOOG', data_source=\"yahoo\", start=start, end=end)"
   ]
  },
  {
   "cell_type": "code",
   "execution_count": 11,
   "id": "9baac7be",
   "metadata": {},
   "outputs": [],
   "source": [
    "# Find rows where Closing price is above open (Green Rectangles)\n",
    "def inc_dec(c, o):\n",
    "    if c > o:\n",
    "        value = \"Increase\"\n",
    "    elif c < o:\n",
    "        value = \"Decrease\"\n",
    "    else:\n",
    "        value = \"Equal\"\n",
    "    return value\n",
    "\n",
    "df[\"Status\"] = [inc_dec(c,o) for c, o in zip(df.Close, df.Open)]\n",
    "df[\"Midpoint\"] = (df.Open + df.Close) / 2\n",
    "df[\"Height\"] = abs(df.Close - df.Open)"
   ]
  },
  {
   "cell_type": "code",
   "execution_count": 12,
   "id": "4678fb0a",
   "metadata": {},
   "outputs": [],
   "source": [
    "p = figure(x_axis_type = 'datetime', width = 1000, height = 300, sizing_mode = \"scale_width\")\n",
    "p.title.text = \"Candlestick Chart\"\n",
    "# The order we add items to p determines the order in which they appear\n",
    "p.grid.grid_line_alpha = 0.2\n",
    "\n",
    "hours_12 = 12 * 60 * 60 * 1000 # 12 hours in milliseconds\n",
    "\n",
    "# Segment parameters\n",
    "# x value of highest point\n",
    "# y value of highest point\n",
    "# x value of lowest point\n",
    "# y value of lowest point\n",
    "p.segment(df.index, df.High, df.index, df.Low, color=\"Grey\")\n",
    "\n",
    "# Rectange defined by 4 parameters\n",
    "# List of central x coordinates\n",
    "# List of central y\n",
    "# width\n",
    "# Height\n",
    "p.rect(df.index[df.Status == \"Increase\"], \n",
    "       df.Midpoint[df.Status == \"Increase\"], \n",
    "       hours_12 , \n",
    "       df.Height[df.Status == \"Increase\"], \n",
    "       fill_color = \"#90EE90\", \n",
    "       line_color = \"grey\")\n",
    "\n",
    "p.rect(df.index[df.Status == \"Decrease\"], \n",
    "       df.Midpoint[df.Status == \"Decrease\"], \n",
    "       hours_12 , \n",
    "       df.Height[df.Status == \"Decrease\"], \n",
    "       fill_color = \"#FF6347\", \n",
    "       line_color = \"grey\")\n",
    "\n",
    "# components(p) # produces a tuple of 2 strings (JS, then html)\n",
    "\n",
    "script1, div1 = components(p)\n",
    "cdn_js = CDN.js_files"
   ]
  },
  {
   "cell_type": "code",
   "execution_count": 13,
   "id": "68e07738",
   "metadata": {},
   "outputs": [
    {
     "data": {
      "text/plain": [
       "'\\n<div class=\"bk-root\" id=\"fd539384-915d-4f9d-b82e-d7416ab0ec07\" data-root-id=\"1552\"></div>'"
      ]
     },
     "execution_count": 13,
     "metadata": {},
     "output_type": "execute_result"
    }
   ],
   "source": [
    "div1"
   ]
  },
  {
   "cell_type": "code",
   "execution_count": 14,
   "id": "3a798ef6",
   "metadata": {},
   "outputs": [
    {
     "data": {
      "text/plain": [
       "['https://cdn.bokeh.org/bokeh/release/bokeh-2.4.2.min.js',\n",
       " 'https://cdn.bokeh.org/bokeh/release/bokeh-gl-2.4.2.min.js',\n",
       " 'https://cdn.bokeh.org/bokeh/release/bokeh-widgets-2.4.2.min.js',\n",
       " 'https://cdn.bokeh.org/bokeh/release/bokeh-tables-2.4.2.min.js',\n",
       " 'https://cdn.bokeh.org/bokeh/release/bokeh-mathjax-2.4.2.min.js']"
      ]
     },
     "execution_count": 14,
     "metadata": {},
     "output_type": "execute_result"
    }
   ],
   "source": [
    "cdn_js"
   ]
  }
 ],
 "metadata": {
  "kernelspec": {
   "display_name": "Python 3 (ipykernel)",
   "language": "python",
   "name": "python3"
  },
  "language_info": {
   "codemirror_mode": {
    "name": "ipython",
    "version": 3
   },
   "file_extension": ".py",
   "mimetype": "text/x-python",
   "name": "python",
   "nbconvert_exporter": "python",
   "pygments_lexer": "ipython3",
   "version": "3.8.10"
  }
 },
 "nbformat": 4,
 "nbformat_minor": 5
}
